{
  "cells": [
    {
      "cell_type": "markdown",
      "metadata": {
        "id": "k90meIq88F4A"
      },
      "source": [
        "# Работа со строковыми значениями"
      ]
    },
    {
      "cell_type": "markdown",
      "metadata": {
        "id": "3CgqpozI8F4I"
      },
      "source": [
        "## Лабораторная работа 6"
      ]
    },
    {
      "cell_type": "markdown",
      "metadata": {
        "id": "DdCxNh_A8F4I"
      },
      "source": [
        "### Форматирование строк"
      ]
    },
    {
      "cell_type": "markdown",
      "metadata": {
        "id": "uASmRV7u8F4J"
      },
      "source": [
        "1\\. Загрузите данные из файла `recipes_sample.csv` (__ЛР2__) в виде `pd.DataFrame` `recipes` При помощи форматирования строк выведите информацию об id рецепта и времени выполнения 5 случайных рецептов в виде таблицы следующего вида:\n",
        "\n",
        "    \n",
        "    |      id      |  minutes  |\n",
        "    |--------------------------|\n",
        "    |    61178     |    65     |\n",
        "    |    202352    |    80     |\n",
        "    |    364322    |    150    |\n",
        "    |    26177     |    20     |\n",
        "    |    224785    |    35     |\n",
        "    \n",
        "Обратите внимание, что ширина столбцов заранее неизвестна и должна рассчитываться динамически, в зависимости от тех данных, которые были выбраны. "
      ]
    },
    {
      "cell_type": "code",
      "source": [
        "import pandas as pd\n",
        "import random\n",
        "import xml.etree.ElementTree as ET\n",
        "import re\n",
        "import nltk\n",
        "from nltk.tokenize import word_tokenize, sent_tokenize\n",
        "from nltk import pos_tag\n",
        "\n",
        "nltk.download('punkt')\n",
        "nltk.download('averaged_perceptron_tagger')\n",
        "\n",
        "def task_1():\n",
        "    recipes = pd.read_csv('data/recipes_sample.csv')\n",
        "    random_recipes = recipes.sample(5)\n",
        "\n",
        "    header = \"|{:^10}|{:^10}|\".format(\"id\", \"minutes\")\n",
        "    print(header)\n",
        "    print(\"-\" * len(header))\n",
        "\n",
        "    for index, row in random_recipes.iterrows():\n",
        "        print(\"|{:^10d}|{:^10d}|\".format(row['id'], row['minutes']))"
      ],
      "metadata": {
        "id": "Tlg4TK4c8TiC"
      },
      "execution_count": null,
      "outputs": []
    },
    {
      "cell_type": "markdown",
      "metadata": {
        "id": "Hgr6Cepu8F4J"
      },
      "source": [
        "2\\. Напишите функцию `show_info`, которая по данным о рецепте создает строку (в смысле объекта python) с описанием следующего вида:\n",
        "\n",
        "```\n",
        "\"Название Из Нескольких Слов\"\n",
        "\n",
        "1. Шаг 1\n",
        "2. Шаг 2\n",
        "----------\n",
        "Автор: contributor_id\n",
        "Среднее время приготовления: minutes минут\n",
        "```\n",
        "\n",
        "    \n",
        "Данные для создания строки получите из файлов `recipes_sample.csv` (__ЛР2__) и `steps_sample.xml` (__ЛР3__). \n",
        "Вызовите данную функцию для рецепта с id `170895` и выведите (через `print`) полученную строку на экран."
      ]
    },
    {
      "cell_type": "code",
      "source": [
        "def parse_steps_xml(file_path):\n",
        "    tree = ET.parse(file_path)\n",
        "    root = tree.getroot()\n",
        "\n",
        "    steps_dict = {}\n",
        "    for recipe in root.findall('recipe'):\n",
        "        recipe_id = int(recipe.find('id').text)\n",
        "        steps = [step.text for step in recipe.find('steps').findall('step')]\n",
        "        steps_dict[recipe_id] = steps\n",
        "\n",
        "    return steps_dict\n",
        "\n",
        "def show_info(name, steps, minutes, author_id):\n",
        "    title = name.title()\n",
        "    steps_str = \"\\n\".join(f\"{i + 1}. {step}\" for i, step in enumerate(steps))\n",
        "    info_str = f'\"{title}\"\\n\\n{steps_str}\\n----------\\nАвтор: {author_id}\\nСреднее время приготовления: {minutes} минут\\n'\n",
        "    return info_str\n",
        "\n",
        "def task_2():\n",
        "    recipes = pd.read_csv('data/recipes_sample.csv')\n",
        "    steps_dict = parse_steps_xml('data/steps_sample.xml')\n",
        "    recipe = recipes.loc[recipes['id'] == 170895].iloc[0]\n",
        "    recipe_info = show_info(\n",
        "        name=recipe['name'],\n",
        "        steps=steps_dict[recipe['id']],\n",
        "        minutes=recipe['minutes'],\n",
        "        author_id=recipe['contributor_id']\n",
        "    )\n",
        "    print(recipe_info)"
      ],
      "metadata": {
        "id": "EiFgI6bG8rVx"
      },
      "execution_count": null,
      "outputs": []
    },
    {
      "cell_type": "markdown",
      "metadata": {
        "id": "6ac65ERB8F4L"
      },
      "source": [
        "## Работа с регулярными выражениями"
      ]
    },
    {
      "cell_type": "markdown",
      "metadata": {
        "id": "VI_BT3ZY8F4L"
      },
      "source": [
        "3\\. Напишите регулярное выражение, которое ищет следующий паттерн в строке: число (1 цифра или более), затем пробел, затем слова: hour или hours или minute или minutes. Произведите поиск по данному регулярному выражению в каждом шаге рецепта с id 25082. Выведите на экран все непустые результаты, найденные по данному шаблону."
      ]
    },
    {
      "cell_type": "code",
      "source": [
        "def task_3():\n",
        "    pattern = re.compile(r'\\d+\\s(?:hours|hour|minutes|minute)')\n",
        "    steps_dict = parse_steps_xml('data/steps_sample.xml')\n",
        "    steps_25082 = steps_dict[25082]\n",
        "\n",
        "    for step in steps_25082:\n",
        "        matches = pattern.findall(step)\n",
        "        if matches:\n",
        "            print(matches)"
      ],
      "metadata": {
        "id": "Kwbr4UKn804L"
      },
      "execution_count": null,
      "outputs": []
    },
    {
      "cell_type": "markdown",
      "metadata": {
        "id": "9k-SpoiL8F4L"
      },
      "source": [
        "4\\. Напишите регулярное выражение, которое ищет шаблон вида \"this..., but\" _в начале строки_ . Между словом \"this\" и частью \", but\" может находиться произвольное число букв, цифр, знаков подчеркивания и пробелов. Никаких других символов вместо многоточия быть не может. Пробел между запятой и словом \"but\" может присутствовать или отсутствовать.\n",
        "\n",
        "Используя строковые методы `pd.Series`, выясните, для каких рецептов данный шаблон содержится в тексте описания. Выведите на экран количество таких рецептов и 3 примера подходящих описаний (текст описания должен быть виден на экране полностью)."
      ]
    },
    {
      "cell_type": "code",
      "source": [
        "def task_4():\n",
        "    pd.set_option(\"display.max_colwidth\", None)\n",
        "\n",
        "    df = pd.read_csv(\"data/recipes_sample.csv\")\n",
        "    pattern = r\"^this[\\w\\s]*,\\s?but\"\n",
        "    mask = df[\"description\"].str.contains(pattern, case=False, na=False)\n",
        "    print(f\"Количество рецептов с шаблоном: {mask.sum()}\")\n",
        "    print(\"Примеры описаний:\")\n",
        "    print(\"\\n\".join(df[mask][\"description\"].head(3).str.strip().to_list()))"
      ],
      "metadata": {
        "id": "WueJYh0l81e7"
      },
      "execution_count": null,
      "outputs": []
    },
    {
      "cell_type": "markdown",
      "metadata": {
        "id": "2jGiC8Nq8F4L"
      },
      "source": [
        "5\\. В текстах шагов рецептов обыкновенные дроби имеют вид \"a / b\". Используя регулярные выражения, уберите в тексте шагов рецепта с id 72367 пробелы до и после символа дроби. Выведите на экран шаги этого рецепта после их изменения."
      ]
    },
    {
      "cell_type": "code",
      "source": [
        "def task_5():\n",
        "    recipe_72367_steps = parse_steps_xml('data/steps_sample.xml')[72367]\n",
        "    pattern = re.compile(r'\\s*/\\s*')\n",
        "\n",
        "    for step in recipe_72367_steps:\n",
        "        modified_step = pattern.sub('/', step)\n",
        "        print(modified_step)"
      ],
      "metadata": {
        "id": "iKrnIsCC81zX"
      },
      "execution_count": null,
      "outputs": []
    },
    {
      "cell_type": "markdown",
      "metadata": {
        "id": "LgYL8Bql8F4M"
      },
      "source": [
        "### Сегментация текста"
      ]
    },
    {
      "cell_type": "markdown",
      "metadata": {
        "id": "xOrnIr268F4M"
      },
      "source": [
        "6\\. Разбейте тексты шагов рецептов на слова при помощи пакета `nltk`. Посчитайте и выведите на экран кол-во уникальных слов среди всех рецептов. Словом называется любая последовательность алфавитных символов (для проверки можно воспользоваться `str.isalpha`). При подсчете количества уникальных слов не учитывайте регистр."
      ]
    },
    {
      "cell_type": "code",
      "source": [
        "def task_6():\n",
        "    tree = ET.parse('data/steps_sample.xml')\n",
        "    root = tree.getroot()\n",
        "\n",
        "    unique_words = set()\n",
        "\n",
        "    for recipe in root.findall('recipe'):\n",
        "        steps = recipe.find('steps')\n",
        "        for step in steps.findall('step'):\n",
        "            words = word_tokenize(step.text)\n",
        "            for word in words:\n",
        "                if word.isalpha():\n",
        "                    unique_words.add(word.lower())\n",
        "\n",
        "    print(f\"Количество уникальных слов: {len(unique_words)}\")"
      ],
      "metadata": {
        "id": "UJCh2i0A82d7"
      },
      "execution_count": null,
      "outputs": []
    },
    {
      "cell_type": "markdown",
      "metadata": {
        "id": "s5ByPaKm8F4M"
      },
      "source": [
        "7\\. Разбейте описания рецептов из `recipes` на предложения при помощи пакета `nltk`. Найдите 5 самых длинных описаний (по количеству _предложений_) рецептов в датасете и выведите строки фрейма, соответствующие этим рецептами, в порядке убывания длины."
      ]
    },
    {
      "cell_type": "code",
      "source": [
        "def task_7():\n",
        "    recipes = pd.read_csv('data/recipes_sample.csv')\n",
        "    recipes['sent_count'] = recipes['description'].apply(lambda x: len(sent_tokenize(str(x))) if pd.notna(x) else 0)\n",
        "    top_5_recipes = recipes.nlargest(5, 'sent_count')\n",
        "\n",
        "    print(\"Топ 5 самых длинных описаний (по количеству предложений):\")\n",
        "    print(top_5_recipes)"
      ],
      "metadata": {
        "id": "VT9UDT6A83Nv"
      },
      "execution_count": null,
      "outputs": []
    },
    {
      "cell_type": "markdown",
      "metadata": {
        "id": "6XnGBv3w8F4M"
      },
      "source": [
        "8\\. Напишите функцию, которая для заданного предложения выводит информацию о частях речи слов, входящих в предложение, в следующем виде:\n",
        "```\n",
        "PRP   VBD   DT      NNS     CC   VBD      NNS        RB   \n",
        " I  omitted the raspberries and added strawberries instead\n",
        "``` \n",
        "Для определения части речи слова можно воспользоваться `nltk.pos_tag`.\n",
        "\n",
        "Проверьте работоспособность функции на названии рецепта с id 241106.\n",
        "\n",
        "Обратите внимание, что часть речи должна находиться ровно посередине над соотвествующим словом, а между самими словами должен быть ровно один пробел.\n"
      ]
    },
    {
      "cell_type": "code",
      "execution_count": null,
      "metadata": {
        "id": "5RZjsOfe8F4M"
      },
      "outputs": [],
      "source": [
        "def display_pos(sentence):\n",
        "    words = word_tokenize(sentence)\n",
        "    \n",
        "    pos_tags = nltk.pos_tag(words)\n",
        "    \n",
        "    formatted_words = []\n",
        "    formatted_tags = []\n",
        "    \n",
        "    for word, tag in pos_tags:\n",
        "        length_diff = len(word) - len(tag)\n",
        "        \n",
        "        if length_diff > 0:\n",
        "            formatted_word = word\n",
        "            formatted_tag = tag.center(len(word))\n",
        "        else:\n",
        "            formatted_word = word.center(len(tag))\n",
        "            formatted_tag = tag\n",
        "        \n",
        "        formatted_words.append(formatted_word)\n",
        "        formatted_tags.append(formatted_tag)\n",
        "    \n",
        "    word_str = ' '.join(formatted_words)\n",
        "    tag_str = ' '.join(formatted_tags)\n",
        "    \n",
        "    print(tag_str)\n",
        "    print(word_str)\n",
        "\n",
        "def task_8():\n",
        "    recipes = pd.read_csv('data/recipes_sample.csv')\n",
        "    recipe_name = recipes.loc[recipes['id'] == 241106, 'name'].values[0]\n",
        "\n",
        "    display_pos(recipe_name)"
      ]
    }
  ],
  "metadata": {
    "kernelspec": {
      "display_name": "Python 3 (ipykernel)",
      "language": "python",
      "name": "python3"
    },
    "language_info": {
      "codemirror_mode": {
        "name": "ipython",
        "version": 3
      },
      "file_extension": ".py",
      "mimetype": "text/x-python",
      "name": "python",
      "nbconvert_exporter": "python",
      "pygments_lexer": "ipython3",
      "version": "3.9.7"
    },
    "colab": {
      "provenance": []
    }
  },
  "nbformat": 4,
  "nbformat_minor": 0
}